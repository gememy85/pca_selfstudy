{
 "cells": [
  {
   "cell_type": "code",
   "execution_count": null,
   "source": [],
   "outputs": [],
   "metadata": {}
  },
  {
   "cell_type": "code",
   "execution_count": 1,
   "source": [
    "import pandas as pd\n",
    "import numpy as np\n",
    "import random as rd\n",
    "from sklearn.decomposition import PCA\n",
    "from sklearn import preprocessing\n",
    "import matplotlib.pyplot as plt"
   ],
   "outputs": [],
   "metadata": {}
  },
  {
   "cell_type": "code",
   "execution_count": 4,
   "source": [
    "genes = ['gene' + str(i) for i in range(1,101)]\n",
    "\n",
    "wt = ['wt'+str(i) for i in range(1,6)]\n",
    "ko = ['ko'+str(i) for i in range(1,6)]\n",
    "\n",
    "data = pd.DataFrame(columns = [*wt, *ko], index=genes)\n",
    "\n",
    "for gene in data.index:\n",
    "    data.loc[gene, 'wt1':'wt5'] = np.random.poisson(lam=rd.randrange(10,1000), size=5)\n",
    "    data.loc[gene, 'ko1':'ko5'] = np.random.poisson(lam=rd.randrange(10,1000), size=5)\n",
    "\n",
    "print(data.head())\n",
    "print(data.shape)"
   ],
   "outputs": [
    {
     "output_type": "stream",
     "name": "stdout",
     "text": [
      "       wt1  wt2  wt3  wt4  wt5  ko1  ko2  ko3  ko4  ko5\n",
      "gene1  174  208  202  181  193  469  486  524  485  464\n",
      "gene2  588  565  529  568  570  111   96   81   89  108\n",
      "gene3  379  366  401  385  366  891  961  902  975  903\n",
      "gene4  491  458  512  494  459  281  275  322  316  252\n",
      "gene5  662  662  614  617  631  930  911  939  906  889\n",
      "(100, 10)\n"
     ]
    }
   ],
   "metadata": {}
  },
  {
   "cell_type": "code",
   "execution_count": 6,
   "source": [
    "scaled_data = preprocessing.scale(data.T)"
   ],
   "outputs": [],
   "metadata": {}
  },
  {
   "cell_type": "code",
   "execution_count": 7,
   "source": [
    "StandardScalar"
   ],
   "outputs": [
    {
     "output_type": "execute_result",
     "data": {
      "text/plain": [
       "array([[-1.11198855,  1.10027213, -0.99693317,  1.05329141, -0.81350531,\n",
       "        -1.05153994,  0.9307756 , -1.25103496, -0.99038423, -1.00911509,\n",
       "         1.04424112,  0.98668525,  0.90483432,  1.03709712,  0.91713616,\n",
       "        -0.94524877,  0.99398736,  0.463009  ,  0.97342274,  1.05756381,\n",
       "        -1.12014692,  1.07137951, -1.27987299, -1.11479501,  1.00639117,\n",
       "        -0.92982307,  1.07040905, -0.98702563,  0.89239008,  0.39045224,\n",
       "        -0.99595876, -1.01392933, -0.95645684, -0.86559205,  0.78568057,\n",
       "        -1.05449091,  0.95757106, -1.01903322, -0.95596873,  2.00286781,\n",
       "        -1.86364934,  1.18549304, -1.13157487, -0.9666161 ,  1.13824501,\n",
       "         0.89881033, -1.0043377 , -0.76381241,  0.59330878, -0.9957779 ,\n",
       "        -1.06421163,  1.08471444,  0.93468099,  1.10895619,  0.70207469,\n",
       "        -0.84303922, -0.80562879, -1.01682551, -0.988062  , -0.60321157,\n",
       "        -1.01208804,  1.54124857, -1.02689245,  1.21351464,  0.99518883,\n",
       "        -1.00687032, -1.00301357, -0.97753477,  0.96275283, -0.90179113,\n",
       "         0.97290646, -0.77884244, -0.90062604,  0.85384966,  0.59644245,\n",
       "         1.03850037, -1.37292803,  0.8556256 ,  0.88325129, -1.00178375,\n",
       "         0.76946552,  1.02105114,  0.21325168,  0.99905755, -0.99263633,\n",
       "         1.08496848,  1.12002524, -0.98780417, -0.16382658,  1.9603059 ,\n",
       "         0.74373106, -1.20116493,  0.97563819, -0.71267386, -1.66393727,\n",
       "         0.97825266, -0.9916351 ,  0.94118203, -0.93059198, -1.05905534],\n",
       "       [-0.88229469,  1.0019954 , -1.04425019,  0.72225697, -0.81350531,\n",
       "        -0.93324948,  0.98103839, -0.86008653, -1.00778555, -0.96803153,\n",
       "         1.01113003,  1.15798478,  1.12722064,  0.23204456,  0.85653245,\n",
       "        -1.25327281,  1.20423671,  0.16429352,  1.08341401,  1.05756381,\n",
       "        -0.91629853,  1.02723532, -0.75787041, -0.97070586,  1.08310844,\n",
       "        -0.7950661 ,  1.2106373 , -0.53059759,  1.37936966,  1.54406112,\n",
       "        -0.97112188, -0.99670028, -1.05962795, -0.95700771,  1.04062117,\n",
       "        -1.01153812,  0.99459056, -1.04387903, -0.6034423 , -0.52068174,\n",
       "        -0.56307304,  0.98569085, -0.73905633, -1.02818401,  1.16084419,\n",
       "         1.59317023, -0.99234131, -0.83510156,  1.19497402, -1.0720097 ,\n",
       "        -1.03899335,  0.67521654,  0.97766002,  0.70464924,  0.34749151,\n",
       "        -0.95252483, -1.10559696, -0.98954039, -0.72313971, -0.67861302,\n",
       "        -0.90837799,  0.53243133, -0.9833009 ,  0.99410309,  1.21660932,\n",
       "        -0.98682313, -1.02901762, -0.99674732,  1.09015726, -1.00155467,\n",
       "         0.81905148, -1.23034531, -1.02182046,  1.28424543,  1.51289055,\n",
       "         1.26402786, -1.0470104 ,  0.91482869,  1.02264532, -1.03501653,\n",
       "         1.38548595,  0.84528334,  1.17438601,  1.08094751, -1.00655342,\n",
       "         0.99468416,  0.95978482, -1.04341036, -1.80209236,  0.30048485,\n",
       "         1.12438081, -0.99693663,  1.14665277, -1.13625416, -1.17534231,\n",
       "         0.97301295, -1.03993504,  1.12817183, -0.31019733, -0.80701254],\n",
       "       [-0.9228289 ,  0.84817095, -0.91685822,  1.26394969, -1.15573366,\n",
       "        -1.00173343,  0.8805128 , -0.96574827, -1.01027146, -1.02452143,\n",
       "         0.94490784,  0.94100538,  0.84576296,  1.47908675,  1.17975224,\n",
       "        -0.79123675,  1.05214144, -2.22543036,  1.02841838,  1.105781  ,\n",
       "        -0.90610611,  0.98750555, -1.41520699, -0.91003674,  0.95757108,\n",
       "        -0.75014711,  1.02366629, -1.27229315,  1.01413498,  1.54406112,\n",
       "        -1.00305501, -0.99023939, -1.00500795, -0.93986728,  0.90156266,\n",
       "        -1.0759673 ,  1.08096939, -1.00483561, -1.22554777,  0.88483953,\n",
       "        -0.97619727,  1.02374841, -0.78391559, -0.65877658,  1.10811278,\n",
       "         0.16587487, -0.99474059, -1.0591532 ,  1.24511279, -0.89095918,\n",
       "        -0.98855678,  1.02101477,  1.07266632,  1.05119805,  0.95028291,\n",
       "        -1.01990059, -0.84848139, -0.98044535, -1.00768587, -1.29259623,\n",
       "        -1.07309394,  0.75661294, -1.06737032,  0.57215781,  1.06498442,\n",
       "        -1.0770355 , -1.00301357, -1.01595987,  1.0137146 , -1.06212539,\n",
       "         0.78737546, -0.77884244, -1.13544023,  0.74277979,  0.97203594,\n",
       "         1.30698547, -0.5785038 ,  1.13754507,  1.14303108, -0.98332109,\n",
       "         0.98227258,  1.30467646, -0.14717369,  1.011656  , -0.99263633,\n",
       "         0.99157091,  0.85203696, -1.01560726,  0.72031686,  0.47219047,\n",
       "         1.01897011, -0.95911658,  0.89868163, -0.93505351, -0.78175193,\n",
       "         0.95729384, -0.96934281,  1.06104729, -0.37913006, -1.0305222 ],\n",
       "       [-1.06469864,  1.0148141 , -0.97509455,  1.08338545, -1.13434439,\n",
       "        -1.02663668,  1.00388512, -0.79668949, -1.00281375, -0.98087014,\n",
       "         1.12287997,  0.99810522,  1.09942235,  0.62667817,  0.95753863,\n",
       "        -0.84899126,  0.76584445, -0.80653181,  0.985644  ,  1.09506607,\n",
       "        -0.91120232,  1.01840648, -0.27453469, -0.96312222,  0.95408393,\n",
       "        -0.21111925,  0.93018079, -0.6447046 ,  0.67324927,  0.39045224,\n",
       "        -1.07756564, -0.99454665, -0.9534224 , -1.08841773,  1.12753274,\n",
       "        -0.94710894,  0.92055156, -1.04387903, -0.987074  ,  0.21402256,\n",
       "        -0.44066585,  1.09986353, -0.99699708, -0.62799263,  0.81432353,\n",
       "         0.62878147, -1.01393481, -1.09988987,  0.7855074 , -1.01483585,\n",
       "        -0.95613327,  0.93001523,  1.03647345,  0.99343992,  1.19849114,\n",
       "        -1.1293862 , -0.50566063, -1.01227799, -1.27260815, -0.92636063,\n",
       "        -1.09139572,  1.24233976, -0.97395985,  0.90971404,  0.84597067,\n",
       "        -0.98181133, -0.90271221, -1.00827485,  0.95001239, -1.08350329,\n",
       "         1.2308398 , -1.04221912, -0.93092464,  0.97880327,  1.12227333,\n",
       "         0.60892421, -0.90442143,  0.92046708,  0.97195658, -0.95378084,\n",
       "         0.95987183,  0.88123585,  1.56484683,  0.96756141, -1.00655342,\n",
       "         0.87015406,  1.04543056, -0.92822612,  0.53828733,  0.72974891,\n",
       "         0.80814871, -0.92886054,  0.88158017, -0.9138745 , -0.30672906,\n",
       "         0.99135192, -1.05851195,  0.82131676, -0.17233185, -1.09234402],\n",
       "       [-0.98363022,  1.02335991, -1.04425019,  0.73228831, -1.03452779,\n",
       "        -0.97060436,  1.18208958, -1.02914531, -0.98292651, -1.00397965,\n",
       "         0.86626899,  0.90674548,  1.00560312,  1.30544797,  1.03834358,\n",
       "        -1.11209513,  0.95820024,  0.42566957,  0.92148242,  0.63432399,\n",
       "        -1.11505071,  0.89038833, -0.75787041, -1.0162077 ,  0.99592972,\n",
       "        -1.24425599,  0.7198384 , -0.81586511,  0.96543702,  0.52356095,\n",
       "        -0.94273688, -1.00316117, -1.00804239, -1.10555816,  1.11015043,\n",
       "        -0.83972697,  1.03983661, -0.86995835, -1.12186352, -0.7442874 ,\n",
       "        -0.71608201,  0.64317279, -1.18764895, -0.56642472,  0.72392684,\n",
       "        -0.18130509, -0.98994203, -1.09988987,  1.07798356, -1.00530688,\n",
       "        -0.94172282,  1.23941365,  0.97539797,  1.10895619,  1.05665787,\n",
       "        -1.00305665,  0.95132762, -0.99863543, -0.90956651, -1.26028132,\n",
       "        -0.85957326,  0.71924933, -0.93659566,  1.23039245,  0.85078416,\n",
       "        -0.93169334, -1.05502168, -1.00058983,  0.97974009, -0.92673202,\n",
       "         1.14486202, -1.06103174, -0.86275278,  0.992687  ,  0.62648993,\n",
       "         0.66262123, -0.51739424,  1.15164104,  0.9529483 , -1.00547628,\n",
       "         0.82546738,  0.90919891,  0.84399608,  0.92976604, -0.99959487,\n",
       "         1.0507227 ,  1.01227737, -1.00766352,  0.87634217,  0.47219047,\n",
       "         1.24735997, -0.85322043,  1.06969621, -1.22097022, -0.68674736,\n",
       "         1.09352613, -0.91732748,  1.03227962,  0.37913006, -0.992478  ],\n",
       "       [ 0.88094354, -0.93790188,  0.86662938, -1.05329141,  1.09726965,\n",
       "         1.06523673, -1.10258297,  0.8093689 ,  0.95607875,  0.93721885,\n",
       "        -1.02934113, -0.98325926, -0.9507015 , -0.74664678, -0.98178012,\n",
       "         1.03765598, -0.98325123, -0.61983463, -1.07669233, -0.94077105,\n",
       "         0.84699007, -1.01664071,  0.40213532,  0.9403713 , -0.98477084,\n",
       "         2.07974918, -0.84604383,  1.35216806, -1.00683028, -0.85189579,\n",
       "         0.94131763,  1.00832989,  1.06144861,  1.27696253, -0.96413899,\n",
       "         1.30791235, -0.92631015,  1.08931137,  1.1799267 , -0.87206206,\n",
       "         0.67629968, -1.07893187,  0.80858819, -0.38172101, -1.00114337,\n",
       "        -1.37714715,  1.10222823,  1.37486233, -0.91921078,  1.13871253,\n",
       "         1.03611126, -0.99917488, -0.98580342, -1.08585293, -0.39713316,\n",
       "         0.83293285, -0.50566063,  1.02955857,  0.95470141,  1.44339912,\n",
       "         0.9156987 , -0.88738554,  0.87868117, -0.86245616, -1.03610348,\n",
       "         1.04796707,  0.95100546,  1.01672838, -0.98228818,  0.92958241,\n",
       "        -1.09056026,  0.69794818,  1.05363399, -0.85384966, -0.84583653,\n",
       "        -1.13085925,  0.41961895, -0.99094694, -1.11895393,  0.75586116,\n",
       "        -1.145798  , -0.94035774, -0.32738638, -0.97260079,  1.03925858,\n",
       "        -1.02581669, -1.01559269,  0.97827168,  0.38226202, -0.18601443,\n",
       "        -0.86085406,  0.77304191, -0.97392804,  1.02400538,  1.14548373,\n",
       "        -1.02855381,  0.88463213, -1.03899208, -1.48205389,  0.96679817],\n",
       "       [ 0.99579048, -1.0019954 ,  1.12141333, -1.11347949,  0.96180426,\n",
       "         0.97807534, -0.93808655,  0.76710421,  0.92127609,  0.9988442 ,\n",
       "        -0.95070228, -1.00038922, -0.99587372, -1.14128039, -1.26459744,\n",
       "         0.92214697, -1.00114479, -0.0597431 , -0.96059043, -1.04792037,\n",
       "         1.10689678, -1.01664071,  0.88547104,  0.98587314, -0.98477084,\n",
       "         0.59742255, -1.10312897,  1.63743558, -0.90943437, -0.31946092,\n",
       "         0.94486576,  1.05786339,  1.18586083,  0.80845726, -1.06843287,\n",
       "         1.02871923, -1.05382176,  0.95798351,  0.68224233,  0.66123387,\n",
       "         0.5385916 , -0.86961528,  0.61793633,  0.20317409, -0.88061444,\n",
       "        -1.2614205 ,  0.92708095,  1.04896904, -0.86907201,  1.11965458,\n",
       "         0.97486685, -1.06287455, -0.99258959, -0.93183124, -1.6736326 ,\n",
       "         1.32982909,  0.30853869,  1.03865361,  1.09206852,  1.07716352,\n",
       "         1.34274006, -1.03683995,  1.05616107, -0.96372303, -1.02406976,\n",
       "         1.17326203,  1.00301357,  1.02825591, -1.01626269,  0.81556693,\n",
       "        -0.87787838,  1.35638986,  0.53855771, -1.53415264, -1.13128757,\n",
       "        -0.88385295,  0.29739984, -0.97685097, -0.81482149,  1.12511429,\n",
       "        -0.85458834, -0.96432608, -1.64894608, -0.94740388,  0.93835968,\n",
       "        -0.94798537, -1.02111822,  0.87103118, -0.81393205,  0.07154401,\n",
       "        -1.08924391,  1.16637048, -1.18769627,  0.67455163,  0.46687963,\n",
       "        -0.91066048,  1.1595703 , -0.92871604, -0.72379376,  1.11421943],\n",
       "       [ 1.25250716, -1.06608892,  0.90666686, -0.64200619,  1.16143747,\n",
       "         1.08391417, -0.87868506,  1.39050845,  0.96850827,  1.12979807,\n",
       "        -1.00036892, -0.98896925, -1.07926859, -0.80978816, -0.96157888,\n",
       "         1.16599933, -0.9966714 ,  0.91108223, -0.92698199, -0.99970317,\n",
       "         1.15276266, -0.97691094,  1.77480877,  1.00104042, -1.00569374,\n",
       "         1.27120738, -0.91615796,  0.03993745, -0.88508539, -1.38433066,\n",
       "         1.14356077,  0.9738718 ,  0.89758862,  0.87701901, -1.14375623,\n",
       "         0.77100252, -0.99212259,  1.09995958,  0.85850554, -0.39290708,\n",
       "         1.33423828, -1.05990309,  0.84223263,  0.48022966, -1.03880865,\n",
       "        -0.75993834,  1.02305206,  1.03878487, -1.20333048,  0.86237225,\n",
       "         0.85598065, -0.88087549, -1.01294808, -0.98958938, -1.6736326 ,\n",
       "         0.89188664,  2.40831587,  1.02046353,  1.25887144,  0.45240868,\n",
       "         0.93400047, -1.20497616,  0.97520532, -1.04811209, -0.91817301,\n",
       "         0.9377075 ,  0.99558384,  0.97830327, -0.97379455,  1.07922771,\n",
       "        -1.0362585 ,  1.11182581,  1.23542562, -0.9093846 , -0.96602644,\n",
       "        -1.0127258 ,  1.60107037, -1.02477728, -1.06826519,  1.01803089,\n",
       "        -1.02259391, -1.01226275, -0.47756362, -0.89071083,  0.97315241,\n",
       "        -1.01959018, -0.97967674,  1.20069643, -1.38602486, -0.93007214,\n",
       "        -0.90184711,  0.84868202, -1.01668169,  1.01341587,  1.13191165,\n",
       "        -1.03903322,  1.13727802, -1.0054298 ,  1.06845745,  1.00008684],\n",
       "       [ 0.98903478, -1.03190571,  1.17237011, -0.70219427,  0.92615548,\n",
       "         1.05901092, -1.07059756,  0.87276594,  1.11020481,  0.84221311,\n",
       "        -0.98381337, -1.0060992 , -0.97502501, -0.76243213, -0.73936527,\n",
       "         0.90289547, -1.01903835,  0.08961465, -1.04919451, -1.10685249,\n",
       "         0.98458774, -0.97249652,  0.82747076,  1.21338233, -1.00569374,\n",
       "         0.14823266, -1.00964347,  1.23806105, -0.99465579, -0.58567835,\n",
       "         0.99099139,  0.99325447,  0.91276084,  0.95700771, -0.85405101,\n",
       "         0.70657334, -0.98800932,  0.81955684,  0.96218979, -1.67065369,\n",
       "         1.02822033, -0.81252894,  1.05531412,  1.49610008, -0.88061444,\n",
       "         1.16883918,  0.9870629 ,  0.95731155, -1.06962709,  0.97671995,\n",
       "         1.05052171, -1.0537746 , -0.99711369, -0.93183124, -0.11346662,\n",
       "         1.0182162 ,  0.26568609,  0.92951313,  0.99394916,  0.81864428,\n",
       "         0.97670461, -0.90606734,  1.12777576, -1.08186771, -0.99037534,\n",
       "         0.9276839 ,  0.94357573,  1.00904335, -0.99927543,  1.16117634,\n",
       "        -0.95028072,  0.79201128,  1.379344  , -0.71501232, -1.1012401 ,\n",
       "        -0.89459236,  0.52146821, -1.02477728, -1.06826519,  1.04018607,\n",
       "        -1.0673954 , -0.95633663,  0.30335802, -1.09228612,  1.00446585,\n",
       "        -0.97600465, -0.99625333,  0.99813104,  1.55245186, -1.38795381,\n",
       "        -1.11266851,  1.2495746 , -0.9311744 ,  1.23579553,  1.1726279 ,\n",
       "        -1.05213248,  0.86977061, -0.98625136,  0.37913006,  1.00008684],\n",
       "       [ 0.84716503, -0.95072058,  0.91030663, -1.34420047,  0.8049496 ,\n",
       "         0.79752674, -0.98834934,  1.06295707,  1.03811359,  1.07844361,\n",
       "        -1.02520224, -1.01180918, -0.98197458, -1.22020711, -1.00198135,\n",
       "         0.92214697, -0.97430444,  1.65787094, -0.97892231, -0.85505159,\n",
       "         0.87756733, -1.01222629,  0.59546961,  0.83420035, -1.01615518,\n",
       "        -0.16620026, -1.0797576 , -0.01711605, -1.12857518, -1.25122194,\n",
       "         0.96970263,  0.96525727,  0.92489862,  1.03699642, -0.93516847,\n",
       "         1.11462481, -1.03325537,  1.01477394,  1.21103197,  0.43762821,\n",
       "         0.98231763, -1.11698943,  1.51512155,  2.05021122, -1.14427146,\n",
       "        -0.875665  ,  0.95587228,  0.43791911, -0.83564617,  0.8814302 ,\n",
       "         1.07213738, -0.95367511, -1.00842397, -1.0280948 , -0.39713316,\n",
       "         0.8750427 , -0.16283986,  0.97953585,  0.6014717 ,  0.96944717,\n",
       "         0.77538511, -0.75661294,  0.95029586, -0.96372303, -1.00481581,\n",
       "         0.89761311,  1.09960006,  0.96677574, -1.02475632,  0.99015313,\n",
       "        -1.00005733,  0.93310592,  0.64460282, -0.83996593, -0.78574157,\n",
       "        -0.95902878,  1.58070052, -0.962755  , -0.90352678,  1.04018607,\n",
       "        -0.8321876 , -1.08816249, -1.49876884, -1.08598689,  1.04273785,\n",
       "        -1.02270343, -0.97691397,  0.93458111,  0.09621561, -1.50242423,\n",
       "        -0.97797706,  0.9016301 , -0.86276857,  0.97105784,  0.69760502,\n",
       "        -0.96305752,  0.92550132, -1.02460825,  2.17138128,  0.90022082]])"
      ]
     },
     "metadata": {},
     "execution_count": 7
    }
   ],
   "metadata": {}
  },
  {
   "cell_type": "code",
   "execution_count": 8,
   "source": [
    "pca = PCA()\n",
    "pca.fit(scaled_data)"
   ],
   "outputs": [
    {
     "output_type": "execute_result",
     "data": {
      "text/plain": [
       "PCA()"
      ]
     },
     "metadata": {},
     "execution_count": 8
    }
   ],
   "metadata": {}
  },
  {
   "cell_type": "code",
   "execution_count": 9,
   "source": [
    "pca_data = pca.transform(scaled_data)"
   ],
   "outputs": [],
   "metadata": {}
  },
  {
   "cell_type": "code",
   "execution_count": 11,
   "source": [
    "per_var = np.round(pca.explained_variance_ratio_*100, decimals=1)\n",
    "labels = ['PC' + str(x) for x in range(1, len(per_var)+1)]\n",
    "\n",
    "plt.bar(x=range(1,len(per_var)+1), height=per_var, tick_label=labels)\n",
    "plt.ylabel('percentage of explained variance')\n",
    "plt.xlabel('principal component')\n",
    "plt.show()"
   ],
   "outputs": [
    {
     "output_type": "display_data",
     "data": {
      "text/plain": [
       "<Figure size 432x288 with 1 Axes>"
      ],
      "image/png": "[encoded data removed]"
     },
     "metadata": {
      "needs_background": "light"
     }
    }
   ],
   "metadata": {}
  },
  {
   "cell_type": "code",
   "execution_count": 12,
   "source": [
    "pca_df = pd.DataFrame(pca_data, index=[*wt, *ko], columns=labels)"
   ],
   "outputs": [],
   "metadata": {}
  },
  {
   "cell_type": "code",
   "execution_count": 13,
   "source": [
    "pca_df"
   ],
   "outputs": [
    {
     "output_type": "execute_result",
     "data": {
      "text/plain": [
       "           PC1       PC2       PC3       PC4       PC5       PC6       PC7  \\\n",
       "wt1  -9.808744  1.293999 -1.674085 -0.976846  0.510811 -1.718764 -0.414071   \n",
       "wt2  -9.584611 -0.184629 -0.242205  2.084947  2.231953  0.747008  0.242787   \n",
       "wt3  -9.751271  0.782357  0.427445 -1.388995 -0.871411  1.958918 -0.447006   \n",
       "wt4  -9.208070 -0.270776  1.043973  0.180069 -0.443527 -0.354818  0.609872   \n",
       "wt5  -9.125957 -1.749830  0.409691  0.192697 -1.516514 -0.641506  0.019353   \n",
       "ko1   9.275638  2.737149  1.460842  0.322382 -0.412280 -0.277590  1.356017   \n",
       "ko2   9.449236  2.275203 -1.506167 -0.020719 -0.003169  0.341985 -0.851366   \n",
       "ko3  10.020696 -1.446980 -1.445336  1.989629 -1.349375  0.113379 -0.289722   \n",
       "ko4   9.282846 -1.059698  2.847356 -0.378857  0.947304 -0.489070 -1.215771   \n",
       "ko5   9.450236 -2.376796 -1.321511 -2.004307  0.906208  0.320459  0.989907   \n",
       "\n",
       "          PC8       PC9          PC10  \n",
       "wt1 -0.565373 -0.443013  3.683636e-15  \n",
       "wt2  0.312152 -0.171706  8.102442e-15  \n",
       "wt3 -0.419459 -0.385199  3.232461e-15  \n",
       "wt4 -0.800748  1.215383  2.987715e-15  \n",
       "wt5  1.476912 -0.190568  3.891158e-15  \n",
       "ko1  0.099287 -0.475830 -4.554582e-15  \n",
       "ko2  0.866039  0.774010 -2.906390e-15  \n",
       "ko3 -0.904259 -0.277985 -5.675082e-15  \n",
       "ko4 -0.166378 -0.098301 -3.981992e-15  \n",
       "ko5  0.101827  0.053209 -2.473838e-15  "
      ],
      "text/html": [
       "<div>\n",
       "<style scoped>\n",
       "    .dataframe tbody tr th:only-of-type {\n",
       "        vertical-align: middle;\n",
       "    }\n",
       "\n",
       "    .dataframe tbody tr th {\n",
       "        vertical-align: top;\n",
       "    }\n",
       "\n",
       "    .dataframe thead th {\n",
       "        text-align: right;\n",
       "    }\n",
       "</style>\n",
       "<table border=\"1\" class=\"dataframe\">\n",
       "  <thead>\n",
       "    <tr style=\"text-align: right;\">\n",
       "      <th></th>\n",
       "      <th>PC1</th>\n",
       "      <th>PC2</th>\n",
       "      <th>PC3</th>\n",
       "      <th>PC4</th>\n",
       "      <th>PC5</th>\n",
       "      <th>PC6</th>\n",
       "      <th>PC7</th>\n",
       "      <th>PC8</th>\n",
       "      <th>PC9</th>\n",
       "      <th>PC10</th>\n",
       "    </tr>\n",
       "  </thead>\n",
       "  <tbody>\n",
       "    <tr>\n",
       "      <th>wt1</th>\n",
       "      <td>-9.808744</td>\n",
       "      <td>1.293999</td>\n",
       "      <td>-1.674085</td>\n",
       "      <td>-0.976846</td>\n",
       "      <td>0.510811</td>\n",
       "      <td>-1.718764</td>\n",
       "      <td>-0.414071</td>\n",
       "      <td>-0.565373</td>\n",
       "      <td>-0.443013</td>\n",
       "      <td>3.683636e-15</td>\n",
       "    </tr>\n",
       "    <tr>\n",
       "      <th>wt2</th>\n",
       "      <td>-9.584611</td>\n",
       "      <td>-0.184629</td>\n",
       "      <td>-0.242205</td>\n",
       "      <td>2.084947</td>\n",
       "      <td>2.231953</td>\n",
       "      <td>0.747008</td>\n",
       "      <td>0.242787</td>\n",
       "      <td>0.312152</td>\n",
       "      <td>-0.171706</td>\n",
       "      <td>8.102442e-15</td>\n",
       "    </tr>\n",
       "    <tr>\n",
       "      <th>wt3</th>\n",
       "      <td>-9.751271</td>\n",
       "      <td>0.782357</td>\n",
       "      <td>0.427445</td>\n",
       "      <td>-1.388995</td>\n",
       "      <td>-0.871411</td>\n",
       "      <td>1.958918</td>\n",
       "      <td>-0.447006</td>\n",
       "      <td>-0.419459</td>\n",
       "      <td>-0.385199</td>\n",
       "      <td>3.232461e-15</td>\n",
       "    </tr>\n",
       "    <tr>\n",
       "      <th>wt4</th>\n",
       "      <td>-9.208070</td>\n",
       "      <td>-0.270776</td>\n",
       "      <td>1.043973</td>\n",
       "      <td>0.180069</td>\n",
       "      <td>-0.443527</td>\n",
       "      <td>-0.354818</td>\n",
       "      <td>0.609872</td>\n",
       "      <td>-0.800748</td>\n",
       "      <td>1.215383</td>\n",
       "      <td>2.987715e-15</td>\n",
       "    </tr>\n",
       "    <tr>\n",
       "      <th>wt5</th>\n",
       "      <td>-9.125957</td>\n",
       "      <td>-1.749830</td>\n",
       "      <td>0.409691</td>\n",
       "      <td>0.192697</td>\n",
       "      <td>-1.516514</td>\n",
       "      <td>-0.641506</td>\n",
       "      <td>0.019353</td>\n",
       "      <td>1.476912</td>\n",
       "      <td>-0.190568</td>\n",
       "      <td>3.891158e-15</td>\n",
       "    </tr>\n",
       "    <tr>\n",
       "      <th>ko1</th>\n",
       "      <td>9.275638</td>\n",
       "      <td>2.737149</td>\n",
       "      <td>1.460842</td>\n",
       "      <td>0.322382</td>\n",
       "      <td>-0.412280</td>\n",
       "      <td>-0.277590</td>\n",
       "      <td>1.356017</td>\n",
       "      <td>0.099287</td>\n",
       "      <td>-0.475830</td>\n",
       "      <td>-4.554582e-15</td>\n",
       "    </tr>\n",
       "    <tr>\n",
       "      <th>ko2</th>\n",
       "      <td>9.449236</td>\n",
       "      <td>2.275203</td>\n",
       "      <td>-1.506167</td>\n",
       "      <td>-0.020719</td>\n",
       "      <td>-0.003169</td>\n",
       "      <td>0.341985</td>\n",
       "      <td>-0.851366</td>\n",
       "      <td>0.866039</td>\n",
       "      <td>0.774010</td>\n",
       "      <td>-2.906390e-15</td>\n",
       "    </tr>\n",
       "    <tr>\n",
       "      <th>ko3</th>\n",
       "      <td>10.020696</td>\n",
       "      <td>-1.446980</td>\n",
       "      <td>-1.445336</td>\n",
       "      <td>1.989629</td>\n",
       "      <td>-1.349375</td>\n",
       "      <td>0.113379</td>\n",
       "      <td>-0.289722</td>\n",
       "      <td>-0.904259</td>\n",
       "      <td>-0.277985</td>\n",
       "      <td>-5.675082e-15</td>\n",
       "    </tr>\n",
       "    <tr>\n",
       "      <th>ko4</th>\n",
       "      <td>9.282846</td>\n",
       "      <td>-1.059698</td>\n",
       "      <td>2.847356</td>\n",
       "      <td>-0.378857</td>\n",
       "      <td>0.947304</td>\n",
       "      <td>-0.489070</td>\n",
       "      <td>-1.215771</td>\n",
       "      <td>-0.166378</td>\n",
       "      <td>-0.098301</td>\n",
       "      <td>-3.981992e-15</td>\n",
       "    </tr>\n",
       "    <tr>\n",
       "      <th>ko5</th>\n",
       "      <td>9.450236</td>\n",
       "      <td>-2.376796</td>\n",
       "      <td>-1.321511</td>\n",
       "      <td>-2.004307</td>\n",
       "      <td>0.906208</td>\n",
       "      <td>0.320459</td>\n",
       "      <td>0.989907</td>\n",
       "      <td>0.101827</td>\n",
       "      <td>0.053209</td>\n",
       "      <td>-2.473838e-15</td>\n",
       "    </tr>\n",
       "  </tbody>\n",
       "</table>\n",
       "</div>"
      ]
     },
     "metadata": {},
     "execution_count": 13
    }
   ],
   "metadata": {}
  },
  {
   "cell_type": "code",
   "execution_count": 15,
   "source": [
    "plt.scatter(pca_df.PC1, pca_df.PC2)"
   ],
   "outputs": [
    {
     "output_type": "execute_result",
     "data": {
      "text/plain": [
       "<matplotlib.collections.PathCollection at 0x7f2bd39658d0>"
      ]
     },
     "metadata": {},
     "execution_count": 15
    },
    {
     "output_type": "display_data",
     "data": {
      "text/plain": [
       "<Figure size 432x288 with 1 Axes>"
      ],
      "image/png": "[encoded data removed]"
     },
     "metadata": {
      "needs_background": "light"
     }
    }
   ],
   "metadata": {}
  },
  {
   "cell_type": "markdown",
   "source": [
    "# PCA"
   ],
   "metadata": {}
  },
  {
   "cell_type": "code",
   "execution_count": 1,
   "source": [
    "# load data \n",
    "import pandas as pd\n",
    "\n",
    "df_wine = pd.read_csv('https://archive.ics.uci.edu/ml/machine-learning-databases/wine/wine.data', header=None)"
   ],
   "outputs": [
    {
     "output_type": "stream",
     "name": "stderr",
     "text": [
      "/usr/lib64/python3.6/importlib/_bootstrap.py:219: RuntimeWarning: numpy.ufunc size changed, may indicate binary incompatibility. Expected 192 from C header, got 216 from PyObject\n",
      "  return f(*args, **kwds)\n"
     ]
    }
   ],
   "metadata": {}
  },
  {
   "cell_type": "code",
   "execution_count": 2,
   "source": [
    "from sklearn.model_selection import train_test_split\n",
    "from sklearn.preprocessing import StandardScaler\n",
    "\n",
    "X, y = df_wine.iloc[:,1:].values, df_wine.iloc[:, 0].values\n",
    "X_train, X_test, y_train, y_test = train_test_split(X, y, test_size=0.3, stratify=y, random_state=0)\n",
    "\n",
    "sc = StandardScaler()\n",
    "X_train_std = sc.fit_transform(X_train)\n",
    "X_test_std = sc.transform(X_test)"
   ],
   "outputs": [
    {
     "output_type": "stream",
     "name": "stderr",
     "text": [
      "/usr/lib64/python3.6/importlib/_bootstrap.py:219: RuntimeWarning: numpy.ufunc size changed, may indicate binary incompatibility. Expected 192 from C header, got 216 from PyObject\n",
      "  return f(*args, **kwds)\n",
      "/usr/lib64/python3.6/importlib/_bootstrap.py:219: RuntimeWarning: numpy.ufunc size changed, may indicate binary incompatibility. Expected 192 from C header, got 216 from PyObject\n",
      "  return f(*args, **kwds)\n",
      "/usr/lib64/python3.6/importlib/_bootstrap.py:219: RuntimeWarning: numpy.ufunc size changed, may indicate binary incompatibility. Expected 192 from C header, got 216 from PyObject\n",
      "  return f(*args, **kwds)\n",
      "/usr/lib64/python3.6/importlib/_bootstrap.py:219: RuntimeWarning: numpy.ufunc size changed, may indicate binary incompatibility. Expected 192 from C header, got 216 from PyObject\n",
      "  return f(*args, **kwds)\n"
     ]
    }
   ],
   "metadata": {}
  },
  {
   "cell_type": "code",
   "execution_count": 3,
   "source": [
    "# we compute the covariate matrix and the eigenvector and eigenvalues for the covariate matrix.\n",
    "\n",
    "import numpy as np\n",
    "cov_mat = np.cov(X_train_std.T)\n",
    "eigen_vals, eigen_vecs = np.linalg.eig(cov_mat)\n",
    "print(f'eigenvalues is {eigen_vals}')"
   ],
   "outputs": [
    {
     "output_type": "stream",
     "name": "stdout",
     "text": [
      "eigenvalues is [4.84274532 2.41602459 1.54845825 0.96120438 0.84166161 0.6620634\n",
      " 0.51828472 0.34650377 0.3131368  0.10754642 0.21357215 0.15362835\n",
      " 0.1808613 ]\n"
     ]
    }
   ],
   "metadata": {}
  },
  {
   "cell_type": "code",
   "execution_count": 4,
   "source": [
    "# we calculate the biggest eigenvalues \n",
    "tot = sum(eigen_vals)\n",
    "var_exp = [(i / tot) for i in sorted(eigen_vals, reverse=True)]\n",
    "\n",
    "cum_var_exp = np.cumsum(var_exp)\n",
    "\n",
    "import matplotlib.pyplot as plt\n",
    "plt.bar(range(1,14), var_exp, alpha=0.5, align = 'center', label='individual explained variance')\n",
    "plt.step(range(1,14), cum_var_exp, where='mid', label='cumulative explained variance')\n",
    "plt.ylabel(\"Explained variance ratio\")\n",
    "plt.xlabel(\"Principal component index\")\n",
    "plt.legend(loc='best')\n",
    "plt.tight_layout()\n",
    "plt.show()\n",
    "\n"
   ],
   "outputs": [
    {
     "output_type": "display_data",
     "data": {
      "text/plain": [
       "<Figure size 432x288 with 1 Axes>"
      ],
      "image/png": "[encoded data removed]"
     },
     "metadata": {
      "needs_background": "light"
     }
    }
   ],
   "metadata": {}
  },
  {
   "cell_type": "code",
   "execution_count": 5,
   "source": [
    "eigen_pairs = [(np.abs(eigen_vals[i]), eigen_vecs[:, i]) for i in range(len(eigen_vals))]\n",
    "\n",
    "eigen_pairs.sort(key=lambda k : k[0], reverse=True)"
   ],
   "outputs": [],
   "metadata": {}
  },
  {
   "cell_type": "code",
   "execution_count": 6,
   "source": [
    "eigen_pairs"
   ],
   "outputs": [
    {
     "output_type": "execute_result",
     "data": {
      "text/plain": [
       "[(4.842745315655893,\n",
       "  array([-0.13724218,  0.24724326, -0.02545159,  0.20694508, -0.15436582,\n",
       "         -0.39376952, -0.41735106,  0.30572896, -0.30668347,  0.07554066,\n",
       "         -0.32613263, -0.36861022, -0.29669651])),\n",
       " (2.4160245870352255,\n",
       "  array([ 0.50303478,  0.16487119,  0.24456476, -0.11352904,  0.28974518,\n",
       "          0.05080104, -0.02287338,  0.09048885,  0.00835233,  0.54977581,\n",
       "         -0.20716433, -0.24902536,  0.38022942])),\n",
       " (1.5484582488203515,\n",
       "  array([-0.13774873,  0.09615039,  0.67777567,  0.62504055,  0.19613548,\n",
       "          0.14031057,  0.11705386,  0.13121778,  0.0304309 , -0.07992997,\n",
       "          0.05305915,  0.13239103, -0.07065022])),\n",
       " (0.9612043774977364,\n",
       "  array([-0.0032961 ,  0.56264669, -0.10897711,  0.0338187 , -0.36751107,\n",
       "          0.24024513,  0.1870533 , -0.02292622,  0.49626233,  0.10648294,\n",
       "         -0.36905375,  0.14201609, -0.16768217])),\n",
       " (0.841661610457841,\n",
       "  array([-0.29062523,  0.08953787, -0.16083499,  0.05158734,  0.67648707,\n",
       "         -0.11851114, -0.10710035, -0.50758161,  0.20163462,  0.00573607,\n",
       "         -0.27691422, -0.06662756, -0.12802904])),\n",
       " (0.6620634040383042,\n",
       "  array([ 2.99096847e-01,  6.27036396e-01,  3.89128239e-04, -4.05836452e-02,\n",
       "          6.57772614e-02, -5.89776247e-02, -3.01103180e-02, -2.71728086e-01,\n",
       "         -4.39997519e-01, -4.11743459e-01,  1.41673377e-01,  1.75842384e-01,\n",
       "          1.38018388e-01])),\n",
       " (0.5182847213561953,\n",
       "  array([ 0.07905293, -0.27400201,  0.13232805,  0.2239991 , -0.40526897,\n",
       "         -0.03474194,  0.04178357, -0.63114569, -0.32312277,  0.26908262,\n",
       "         -0.30264066,  0.13054014,  0.00081134])),\n",
       " (0.3465037664128673,\n",
       "  array([-0.36817641, -0.01257758,  0.17757818, -0.44059211,  0.1166175 ,\n",
       "          0.35019213,  0.21871818,  0.19712942, -0.43305587, -0.06684118,\n",
       "         -0.45976229,  0.11082755,  0.00560817])),\n",
       " (0.31313680047208864,\n",
       "  array([-0.39837702,  0.11045823,  0.38249686, -0.24337385, -0.25898236,\n",
       "         -0.34231286, -0.03612316, -0.17143688,  0.24437021, -0.15551492,\n",
       "          0.02119612, -0.23808956,  0.51727846])),\n",
       " (0.21357214660527335,\n",
       "  array([ 0.37463888, -0.1374056 ,  0.46158303, -0.41895399,  0.01004706,\n",
       "         -0.22125424, -0.04175136, -0.08875695,  0.19992186, -0.22166887,\n",
       "         -0.09846946,  0.01912058, -0.54253207])),\n",
       " (0.18086130479496615,\n",
       "  array([ 0.26283426, -0.26676921, -0.11554255,  0.19948341,  0.02890188,\n",
       "         -0.06638686, -0.21334908,  0.18639128,  0.16808299, -0.46636903,\n",
       "         -0.53248388,  0.23783528,  0.36776336])),\n",
       " (0.15362835006711026,\n",
       "  array([-0.12783451,  0.08064016,  0.01679249, -0.11084566,  0.07938796,\n",
       "         -0.49145931, -0.0503074 ,  0.17532803, -0.00367596,  0.35975654,\n",
       "          0.04046698,  0.74222954,  0.03873952])),\n",
       " (0.10754642369670984,\n",
       "  array([-0.09448698,  0.02636524,  0.14274751, -0.13048578, -0.06760808,\n",
       "          0.45991766, -0.81458395, -0.09574809,  0.06724689,  0.08733362,\n",
       "          0.12906113,  0.18764627,  0.01211126]))]"
      ]
     },
     "metadata": {},
     "execution_count": 6
    }
   ],
   "metadata": {}
  },
  {
   "cell_type": "code",
   "execution_count": 7,
   "source": [
    "# we make 투영matrix\n",
    "w = np.hstack((eigen_pairs[0][1][:, np.newaxis], eigen_pairs[1][1][:,np.newaxis]))\n",
    "# np.newaxis is a very convenient method to use\n",
    "print(w)"
   ],
   "outputs": [
    {
     "output_type": "stream",
     "name": "stdout",
     "text": [
      "[[-0.13724218  0.50303478]\n",
      " [ 0.24724326  0.16487119]\n",
      " [-0.02545159  0.24456476]\n",
      " [ 0.20694508 -0.11352904]\n",
      " [-0.15436582  0.28974518]\n",
      " [-0.39376952  0.05080104]\n",
      " [-0.41735106 -0.02287338]\n",
      " [ 0.30572896  0.09048885]\n",
      " [-0.30668347  0.00835233]\n",
      " [ 0.07554066  0.54977581]\n",
      " [-0.32613263 -0.20716433]\n",
      " [-0.36861022 -0.24902536]\n",
      " [-0.29669651  0.38022942]]\n"
     ]
    }
   ],
   "metadata": {}
  },
  {
   "cell_type": "code",
   "execution_count": 11,
   "source": [
    "X_train_pca = X_train_std.dot(w)"
   ],
   "outputs": [],
   "metadata": {}
  },
  {
   "cell_type": "code",
   "execution_count": 15,
   "source": [
    "colors = ['r','b','g']\n",
    "markers = ['s', 'x', 'o']\n",
    "for l, c, m in zip(np.unique(y_train), colors, markers):\n",
    "    plt.scatter(X_train_pca[y_train==l,0],\n",
    "                X_train_pca[y_train==l,1],\n",
    "                c=c, label=l, marker=m)\n",
    "plt.tight_layout()\n",
    "plt.show()"
   ],
   "outputs": [
    {
     "output_type": "display_data",
     "data": {
      "text/plain": [
       "<Figure size 432x288 with 1 Axes>"
      ],
      "image/png": "[encoded data removed]"
     },
     "metadata": {
      "needs_background": "light"
     }
    }
   ],
   "metadata": {}
  }
 ],
 "metadata": {
  "orig_nbformat": 4,
  "language_info": {
   "name": "python"
  }
 },
 "nbformat": 4,
 "nbformat_minor": 2
}